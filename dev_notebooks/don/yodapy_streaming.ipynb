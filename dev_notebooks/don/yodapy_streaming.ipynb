{
 "cells": [
  {
   "cell_type": "markdown",
   "metadata": {},
   "source": [
    "# Streaming OOI Data with `yodapy`"
   ]
  },
  {
   "cell_type": "markdown",
   "metadata": {},
   "source": [
    "By Landung \"Don\" Setiawan\n",
    "\n",
    "This notebook shows a feature built into `yodapy` to stream OOI data as a streaming dataframe."
   ]
  },
  {
   "cell_type": "code",
   "execution_count": 1,
   "metadata": {},
   "outputs": [],
   "source": [
    "# First import the necessary libraries\n",
    "from yodapy.datasources import OOI\n",
    "from yodapy.utils import creds"
   ]
  },
  {
   "cell_type": "markdown",
   "metadata": {},
   "source": [
    "1. Set credentials to access OOI Data"
   ]
  },
  {
   "cell_type": "code",
   "execution_count": 2,
   "metadata": {},
   "outputs": [],
   "source": [
    "creds.set_ooi_credentials_file(username='myuser', token='myt0k3n')"
   ]
  },
  {
   "cell_type": "markdown",
   "metadata": {},
   "source": [
    "2. Let's search for **CTD** data in the **Cabled Array** **Axial Base Shallow Profiler** Site"
   ]
  },
  {
   "cell_type": "code",
   "execution_count": 3,
   "metadata": {},
   "outputs": [],
   "source": [
    "ooi = OOI.search(region=['cabled'], site=['axial base shallow profiler'], instrument=['CTD'])"
   ]
  },
  {
   "cell_type": "markdown",
   "metadata": {},
   "source": [
    "3. From the search, we get 2 streams from 2 platform, the **Shallow Profiler** and **200m Platform**"
   ]
  },
  {
   "cell_type": "code",
   "execution_count": 4,
   "metadata": {},
   "outputs": [
    {
     "data": {
      "text/html": [
       "<div>\n",
       "<style scoped>\n",
       "    .dataframe tbody tr th:only-of-type {\n",
       "        vertical-align: middle;\n",
       "    }\n",
       "\n",
       "    .dataframe tbody tr th {\n",
       "        vertical-align: top;\n",
       "    }\n",
       "\n",
       "    .dataframe thead th {\n",
       "        text-align: right;\n",
       "    }\n",
       "</style>\n",
       "<table border=\"1\" class=\"dataframe\">\n",
       "  <thead>\n",
       "    <tr style=\"text-align: right;\">\n",
       "      <th></th>\n",
       "      <th>array_name</th>\n",
       "      <th>assembly_name</th>\n",
       "      <th>depth</th>\n",
       "      <th>display_name</th>\n",
       "      <th>end</th>\n",
       "      <th>iris_enabled</th>\n",
       "      <th>iris_link</th>\n",
       "      <th>latitude</th>\n",
       "      <th>long_display_name</th>\n",
       "      <th>longitude</th>\n",
       "      <th>...</th>\n",
       "      <th>start</th>\n",
       "      <th>stream</th>\n",
       "      <th>stream_dataset</th>\n",
       "      <th>stream_display_name</th>\n",
       "      <th>stream_method</th>\n",
       "      <th>stream_name</th>\n",
       "      <th>stream_type</th>\n",
       "      <th>water_depth</th>\n",
       "      <th>startdt</th>\n",
       "      <th>enddt</th>\n",
       "    </tr>\n",
       "  </thead>\n",
       "  <tbody>\n",
       "    <tr>\n",
       "      <th>0</th>\n",
       "      <td>Cabled Axial Seamount</td>\n",
       "      <td>Shallow Profiler (SF03A)</td>\n",
       "      <td>NaN</td>\n",
       "      <td>CTD</td>\n",
       "      <td>2018-06-11T22:00:02.974Z</td>\n",
       "      <td>False</td>\n",
       "      <td>NaN</td>\n",
       "      <td>45.83049</td>\n",
       "      <td>Cabled Axial Seamount Axial Base Shallow Profi...</td>\n",
       "      <td>-129.75326</td>\n",
       "      <td>...</td>\n",
       "      <td>2014-10-07T21:32:53.602Z</td>\n",
       "      <td>ctdpf_sbe43_sample</td>\n",
       "      <td>Science</td>\n",
       "      <td>Data Products</td>\n",
       "      <td>streamed</td>\n",
       "      <td>streamed_ctdpf-sbe43-sample</td>\n",
       "      <td>streamed</td>\n",
       "      <td>2609.0</td>\n",
       "      <td>2014-10-07 21:32:53.602</td>\n",
       "      <td>2018-06-11 22:00:02.974</td>\n",
       "    </tr>\n",
       "    <tr>\n",
       "      <th>1</th>\n",
       "      <td>Cabled Axial Seamount</td>\n",
       "      <td>200m Platform (PC03A)</td>\n",
       "      <td>190.0</td>\n",
       "      <td>CTD</td>\n",
       "      <td>2018-06-11T21:59:59.582Z</td>\n",
       "      <td>False</td>\n",
       "      <td>NaN</td>\n",
       "      <td>45.83049</td>\n",
       "      <td>Cabled Axial Seamount Axial Base Shallow Profi...</td>\n",
       "      <td>-129.75326</td>\n",
       "      <td>...</td>\n",
       "      <td>2014-10-02T20:42:53.306Z</td>\n",
       "      <td>ctdpf_optode_sample</td>\n",
       "      <td>Science</td>\n",
       "      <td>Optode Data Products</td>\n",
       "      <td>streamed</td>\n",
       "      <td>streamed_ctdpf-optode-sample</td>\n",
       "      <td>streamed</td>\n",
       "      <td>2609.0</td>\n",
       "      <td>2014-10-02 20:42:53.306</td>\n",
       "      <td>2018-06-11 21:59:59.582</td>\n",
       "    </tr>\n",
       "  </tbody>\n",
       "</table>\n",
       "<p>2 rows × 25 columns</p>\n",
       "</div>"
      ],
      "text/plain": [
       "              array_name             assembly_name  depth display_name  \\\n",
       "0  Cabled Axial Seamount  Shallow Profiler (SF03A)    NaN          CTD   \n",
       "1  Cabled Axial Seamount     200m Platform (PC03A)  190.0          CTD   \n",
       "\n",
       "                        end iris_enabled iris_link  latitude  \\\n",
       "0  2018-06-11T22:00:02.974Z        False       NaN  45.83049   \n",
       "1  2018-06-11T21:59:59.582Z        False       NaN  45.83049   \n",
       "\n",
       "                                   long_display_name  longitude  \\\n",
       "0  Cabled Axial Seamount Axial Base Shallow Profi... -129.75326   \n",
       "1  Cabled Axial Seamount Axial Base Shallow Profi... -129.75326   \n",
       "\n",
       "            ...                               start               stream  \\\n",
       "0           ...            2014-10-07T21:32:53.602Z   ctdpf_sbe43_sample   \n",
       "1           ...            2014-10-02T20:42:53.306Z  ctdpf_optode_sample   \n",
       "\n",
       "  stream_dataset   stream_display_name stream_method  \\\n",
       "0        Science         Data Products      streamed   \n",
       "1        Science  Optode Data Products      streamed   \n",
       "\n",
       "                    stream_name stream_type water_depth  \\\n",
       "0   streamed_ctdpf-sbe43-sample    streamed      2609.0   \n",
       "1  streamed_ctdpf-optode-sample    streamed      2609.0   \n",
       "\n",
       "                  startdt                   enddt  \n",
       "0 2014-10-07 21:32:53.602 2018-06-11 22:00:02.974  \n",
       "1 2014-10-02 20:42:53.306 2018-06-11 21:59:59.582  \n",
       "\n",
       "[2 rows x 25 columns]"
      ]
     },
     "execution_count": 4,
     "metadata": {},
     "output_type": "execute_result"
    }
   ],
   "source": [
    "# Below are the streams available to us. Note that these are only science streams.\n",
    "ooi.streams"
   ]
  },
  {
   "cell_type": "markdown",
   "metadata": {},
   "source": [
    "4. For now, you can only specify one stream at a time. Just for fun, let's stream the CTD Data from 200m Platform (ctdpf_optode_sample)."
   ]
  },
  {
   "cell_type": "code",
   "execution_count": 5,
   "metadata": {},
   "outputs": [],
   "source": [
    "sdf = ooi.stream_data(stream_name='ctdpf_optode_sample')"
   ]
  },
  {
   "cell_type": "markdown",
   "metadata": {},
   "source": [
    "Below is a streaming dataframe. It updates every 5 seconds! Also, you can perform continuous pandas operations with this streaming dataframe."
   ]
  },
  {
   "cell_type": "code",
   "execution_count": 6,
   "metadata": {},
   "outputs": [
    {
     "data": {
      "application/vnd.jupyter.widget-view+json": {
       "model_id": "418089cf2a844f919438b20943e1b10c",
       "version_major": 2,
       "version_minor": 0
      },
      "text/plain": [
       "Output()"
      ]
     },
     "metadata": {},
     "output_type": "display_data"
    }
   ],
   "source": [
    "sdf"
   ]
  }
 ],
 "metadata": {
  "kernelspec": {
   "display_name": "Python [conda env:yodapydev]",
   "language": "python",
   "name": "conda-env-yodapydev-py"
  },
  "language_info": {
   "codemirror_mode": {
    "name": "ipython",
    "version": 3
   },
   "file_extension": ".py",
   "mimetype": "text/x-python",
   "name": "python",
   "nbconvert_exporter": "python",
   "pygments_lexer": "ipython3",
   "version": "3.6.5"
  }
 },
 "nbformat": 4,
 "nbformat_minor": 2
}
